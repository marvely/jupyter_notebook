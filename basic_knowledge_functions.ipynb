def get_clean_reasoncode(reasoncode_str): 
    
    reasoncode_str = str(reasoncode_str)
    rc_str_list = reasoncode_str.split('|')
    rc_str_list_clean = [s.split('(')[0].strip().replace(' ', '_') for s in rc_str_list]
    return rc_str_list_clean

def get_col_value_onehotencoded(col_series_):
    
    # takes in a col of a df, where each cell contains a list of values to be one hot encoded.
    
    col_series_list = col_series_.to_list()
    col_series_array = te.fit(col_series_list).transform(col_series_list)
    col_series_final = pd.DataFrame(col_series_array, columns = te.columns_)

    # convert boolean to 0 1 one hot encoded.
    col_series_final = col_series_final.applymap(int)
    
    # returns a df. Can be join back to the original df.
    return col_series_final
    
    
    
